{
 "cells": [
  {
   "cell_type": "markdown",
   "id": "c8e62c5f-cc3d-44e5-b6ab-23e0468e817f",
   "metadata": {},
   "source": [
    "# Python Basic - 2"
   ]
  },
  {
   "cell_type": "markdown",
   "id": "f24c00b6-df40-485f-a12f-8145d1a4c167",
   "metadata": {},
   "source": [
    "Q.1. Create two int type variables, apply addition, subtraction, division and multiplications\n",
    "and store the results in variables. Then print the data in the following format by calling the\n",
    "variables:"
   ]
  },
  {
   "cell_type": "code",
   "execution_count": 7,
   "id": "3ea113ee-a52d-404c-ad33-89888bf7372f",
   "metadata": {},
   "outputs": [],
   "source": [
    "def add(one,two):\n",
    "    return one+two\n",
    "def sub(one,two):\n",
    "    return one-two\n",
    "def mul(one,two):\n",
    "    return one*two\n",
    "def div(one,two):\n",
    "    return one/two\n",
    "    "
   ]
  },
  {
   "cell_type": "code",
   "execution_count": 9,
   "id": "750f63f1-25f7-4c28-87b3-4a52cd395890",
   "metadata": {},
   "outputs": [
    {
     "name": "stdin",
     "output_type": "stream",
     "text": [
      "Enter variable one :  10\n",
      "Enter variable two :  20\n"
     ]
    }
   ],
   "source": [
    "one = int(input(\"Enter variable one : \"))\n",
    "two = int(input(\"Enter variable two : \"))"
   ]
  },
  {
   "cell_type": "code",
   "execution_count": 21,
   "id": "31262fde-4a77-4866-af0b-786a52a8ed23",
   "metadata": {},
   "outputs": [
    {
     "name": "stdout",
     "output_type": "stream",
     "text": [
      "First varible is 10 & second variable is 20.\n",
      "Addition: 10 + 20 = 30\n",
      "Subraction: 10 - 20 = -10\n",
      "Multiplication: 10 * 20 = 200\n",
      "Division: 10 / 20 = 0.5\n"
     ]
    }
   ],
   "source": [
    "print(\"First varible is %s & second variable is %s.\" %(one,two))\n",
    "print(\"Addition: %s + %s = %s\" %(one,two,add(one,two)))\n",
    "print(\"Subraction: %s - %s = %s\" %(one,two,sub(one,two)))\n",
    "print(\"Multiplication: %s * %s = %s\" %(one,two,mul(one,two)))\n",
    "print(\"Division: %s / %s = %s\" %(one,two,div(one,two)))"
   ]
  },
  {
   "cell_type": "code",
   "execution_count": null,
   "id": "38ca4bb8-14b9-4419-be86-7464ad2aa2ac",
   "metadata": {},
   "outputs": [],
   "source": []
  },
  {
   "cell_type": "markdown",
   "id": "2e80bd1c-8f68-435a-a4a2-38fefd107e20",
   "metadata": {},
   "source": [
    "Q.2. What is the difference between the following operators:\n",
    "\n",
    "(i) ‘/’ & ‘//’\n",
    "\n",
    "(ii) ‘**’ & ‘^’"
   ]
  },
  {
   "cell_type": "markdown",
   "id": "021949dd-57d6-49d3-a464-4b53dc6e31b9",
   "metadata": {},
   "source": [
    "'/' performs regular division and returns a float.\n",
    "\n",
    "'//' performs floor division and returns an integer.\n",
    "\n",
    "'**' performs exponentiation.\n",
    "\n",
    "'^' is the bitwise XOR operator, not an exponentiation operator in Python."
   ]
  },
  {
   "cell_type": "markdown",
   "id": "b7fd0498-3749-446b-82a2-139547cfcbe5",
   "metadata": {},
   "source": [
    "Q.3. List the logical operators.\n",
    "\n",
    "In Python, the logical operators are used to perform logical operations on boolean values or expressions. The logical operators in Python are:\n",
    "\n",
    "1. `and`: The `and` operator returns `True` if both operands are `True`, otherwise it returns `False`. It evaluates the second operand only if the first operand is `True`. Example: `x and y`.\n",
    "\n",
    "2. `or`: The `or` operator returns `True` if at least one of the operands is `True`, otherwise it returns `False`. It evaluates the second operand only if the first operand is `False`. Example: `x or y`.\n",
    "\n",
    "3. `not`: The `not` operator is a unary operator that returns the opposite of the operand. It returns `True` if the operand is `False`, and `False` if the operand is `True`. Example: `not x`.\n",
    "\n",
    "These logical operators can be used to combine boolean values or expressions to create more complex logical conditions. They are typically used in conditional statements, loops, and boolean expressions to control the flow of the program based on certain conditions.\n",
    "\n"
   ]
  },
  {
   "cell_type": "code",
   "execution_count": null,
   "id": "0190f09b-f054-4355-b0c6-ede1484e182b",
   "metadata": {},
   "outputs": [],
   "source": []
  },
  {
   "cell_type": "markdown",
   "id": "a8c47842-9106-4625-b2c1-b9439f8b94f0",
   "metadata": {},
   "source": [
    "Q.4. Explain right shift operator and left shift operator with examples."
   ]
  },
  {
   "cell_type": "markdown",
   "id": "19b44029-c380-4789-80ef-96cafadb9964",
   "metadata": {},
   "source": [
    "The right shift operator (>>) and the left shift operator (<<) are bitwise shift operators in Python. They are used to shift the bits of a binary number to the right or left, respectively."
   ]
  },
  {
   "cell_type": "code",
   "execution_count": 34,
   "id": "e461f944-c8e0-484c-a2dc-6e27268c133b",
   "metadata": {},
   "outputs": [
    {
     "name": "stdout",
     "output_type": "stream",
     "text": [
      "right_shift of num :  3\n",
      "left_shift of num :  12\n"
     ]
    }
   ],
   "source": [
    "num = 12\n",
    "right_shift = num >> 2\n",
    "print(\"right_shift of num : \" ,right_shift)\n",
    "left_shift = right_shift << 2\n",
    "print(\"left_shift of num : \" ,left_shift)"
   ]
  },
  {
   "cell_type": "code",
   "execution_count": null,
   "id": "230995de-e2ff-4892-bb40-cdbd8c8ca969",
   "metadata": {},
   "outputs": [],
   "source": []
  },
  {
   "cell_type": "markdown",
   "id": "4c7c5210-08d9-4cb8-b055-72b735802f42",
   "metadata": {},
   "source": [
    "Q.5. Create a list containing int type data of length 15. Then write a code to check if 10 is\n",
    "present in the list or not."
   ]
  },
  {
   "cell_type": "code",
   "execution_count": 39,
   "id": "ba6c09d2-1b00-4721-8cd8-ac3c5a4b834e",
   "metadata": {},
   "outputs": [
    {
     "name": "stdout",
     "output_type": "stream",
     "text": [
      "10 is present in list\n"
     ]
    }
   ],
   "source": [
    "my_list = [5, 8, 10,15, 20, 25, 30, 35, 40, 45, 50, 55, 60, 65, 70]\n",
    "if 10 in my_list:\n",
    "    print(\"10 is present in list\")\n",
    "else:\n",
    "    print(\"10 is not present in the list\")"
   ]
  },
  {
   "cell_type": "code",
   "execution_count": null,
   "id": "5b665032-8e2f-45cb-95f5-6d845dc4448f",
   "metadata": {},
   "outputs": [],
   "source": []
  }
 ],
 "metadata": {
  "kernelspec": {
   "display_name": "Python 3 (ipykernel)",
   "language": "python",
   "name": "python3"
  },
  "language_info": {
   "codemirror_mode": {
    "name": "ipython",
    "version": 3
   },
   "file_extension": ".py",
   "mimetype": "text/x-python",
   "name": "python",
   "nbconvert_exporter": "python",
   "pygments_lexer": "ipython3",
   "version": "3.10.6"
  }
 },
 "nbformat": 4,
 "nbformat_minor": 5
}
