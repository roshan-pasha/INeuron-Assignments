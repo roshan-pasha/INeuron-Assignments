{
 "cells": [
  {
   "cell_type": "markdown",
   "id": "c94471f3-56f5-4977-9827-1a42a47ddb66",
   "metadata": {},
   "source": [
    "1. Why are functions advantageous to have in your programs?\n",
    "    \n",
    "    Ans :     Functions reduce the need for duplicate code. This makes programs shorter, easier to read, and easier to update."
   ]
  },
  {
   "cell_type": "markdown",
   "id": "e0d56530-6bec-4740-b34a-fc0bad97f6da",
   "metadata": {},
   "source": [
    "2. When does the code in a function run: when its specified or when its called?\n",
    "\n",
    "    Ans : When the function was called\n",
    " "
   ]
  },
  {
   "cell_type": "markdown",
   "id": "91b0ec70-7741-4039-90be-fa85bafc61ee",
   "metadata": {},
   "source": [
    "3. What statement creates a function?\n",
    "\n",
    "    def name_function(i):\n",
    "    \n",
    "        return()"
   ]
  },
  {
   "cell_type": "markdown",
   "id": "a6ff6b94-86a3-417a-bbb9-3ee732fd8da7",
   "metadata": {},
   "source": [
    "4. What is the difference between a function and a function call?\n",
    "\n",
    " Ans: def name_function(i):      # this is a function\n",
    "         \n",
    "            return ()\n",
    "            \n",
    "      name_function(2)  --> this is calling a function      "
   ]
  },
  {
   "cell_type": "markdown",
   "id": "7244d5ab-bdf0-4ea9-883d-58db083d596d",
   "metadata": {},
   "source": [
    "5. How many global scopes are there in a Python program? How many local scopes?\n",
    "\n",
    "    Ans: There is  only one global Python scope per program execution. This scope remains in existence until the program terminates. \n",
    "    \n",
    "    local scope is created whenever a function is called()."
   ]
  },
  {
   "cell_type": "markdown",
   "id": "dde263b0-3029-494f-9f90-2d7ce2b3c954",
   "metadata": {},
   "source": [
    "6. What happens to variables in a local scope when the function call returns?\n",
    "\n",
    "    Ans : Variables in a local scope will be vanished when the function call returns()\n",
    "    "
   ]
  },
  {
   "cell_type": "markdown",
   "id": "185198c9-99bb-474b-b5a8-4ef7d6108931",
   "metadata": {},
   "source": [
    "7. What is the concept of a return value? Is it possible to have a return value in an expression?\n",
    "\n",
    "     Ans : A return value is the value that a function call evaluates to. Like any value, a return value can be used as part of an expression."
   ]
  },
  {
   "cell_type": "markdown",
   "id": "8acb4a22-0ae1-427a-8ed1-abfc423653f7",
   "metadata": {},
   "source": [
    "8. If a function does not have a return statement, what is the return value of a call to that function?\n",
    "    \n",
    "    Ans : it will not return anything\n",
    "    "
   ]
  },
  {
   "cell_type": "markdown",
   "id": "16ec8e29-7515-4098-bbe4-a45731232391",
   "metadata": {},
   "source": [
    "9. How do you make a function variable refer to the global variable?\n",
    "\n",
    "    Ans : Normally, when you create a variable inside a function, that variable is local, and can only be used inside that function. To create a global variable inside a function, you can use the global keyword."
   ]
  },
  {
   "cell_type": "code",
   "execution_count": 1,
   "id": "c703566f-bf37-476a-a6dc-6e3064b5a54e",
   "metadata": {},
   "outputs": [
    {
     "name": "stdout",
     "output_type": "stream",
     "text": [
      "Python is fantastic\n"
     ]
    }
   ],
   "source": [
    "def myfunc():\n",
    "  global x\n",
    "  x = \"fantastic\"\n",
    "\n",
    "myfunc()\n",
    "\n",
    "print(\"Python is \" + x)"
   ]
  },
  {
   "cell_type": "markdown",
   "id": "327557e5-c6d0-4596-aaf3-18400ea2e0d8",
   "metadata": {},
   "source": [
    "10. What is the data type of None?\n",
    "\n",
    "    Ans : The None keyword is used to define a null value, or no value at all. None is not the same as 0, False, or an empty string. None is a data type of its own (NoneType) and only None can be None."
   ]
  },
  {
   "cell_type": "code",
   "execution_count": 2,
   "id": "d535836f-a74f-4917-942c-50820fb0a5ba",
   "metadata": {},
   "outputs": [
    {
     "data": {
      "text/plain": [
       "NoneType"
      ]
     },
     "execution_count": 2,
     "metadata": {},
     "output_type": "execute_result"
    }
   ],
   "source": [
    "type(None)"
   ]
  },
  {
   "cell_type": "markdown",
   "id": "16b54d7b-cf0d-426d-accd-a3039734e470",
   "metadata": {},
   "source": [
    "11. What does the sentence import areallyourpetsnamederic do?\n",
    "    \n",
    "    Ans: import is used to import a module/package/library in Python\n",
    "        \n",
    "        import areallyourpetsnamederic -- > ModuleNotFoundError: No module named 'areallyourpetsnamederic'"
   ]
  },
  {
   "cell_type": "markdown",
   "id": "609f2dcd-025a-474f-9c87-ec4a5e1f8561",
   "metadata": {},
   "source": [
    "12. If you had a bacon() feature in a spam module, what would you call it after importing spam?\n",
    "\n",
    "    Ans : import spam\n",
    "            \n",
    "          spam.bacon()"
   ]
  },
  {
   "cell_type": "markdown",
   "id": "0b0287b6-0770-42b3-9fc0-02872b3167f7",
   "metadata": {},
   "source": [
    "13. What can you do to save a programme from crashing if it encounters an error?\n",
    "\n",
    "Ans : Use the try except"
   ]
  },
  {
   "cell_type": "code",
   "execution_count": 4,
   "id": "fa31018c-06df-42b4-8385-e248cea93381",
   "metadata": {},
   "outputs": [
    {
     "name": "stdout",
     "output_type": "stream",
     "text": [
      "fantastic\n"
     ]
    }
   ],
   "source": [
    "try:\n",
    "  print(x)\n",
    "except:\n",
    "  print(\"An exception occurred\")"
   ]
  },
  {
   "cell_type": "markdown",
   "id": "d727aff8-0489-44a0-ae21-0824bbd152ed",
   "metadata": {},
   "source": [
    "14. What is the purpose of the try clause? What is the purpose of the except clause?\n",
    "\n",
    "    Ans : The try block lets you test a block of code for errors. The except block lets you handle the error."
   ]
  },
  {
   "cell_type": "code",
   "execution_count": null,
   "id": "07deadb5-98df-4fcb-b818-f3a04b630a75",
   "metadata": {},
   "outputs": [],
   "source": []
  }
 ],
 "metadata": {
  "kernelspec": {
   "display_name": "Python 3 (ipykernel)",
   "language": "python",
   "name": "python3"
  },
  "language_info": {
   "codemirror_mode": {
    "name": "ipython",
    "version": 3
   },
   "file_extension": ".py",
   "mimetype": "text/x-python",
   "name": "python",
   "nbconvert_exporter": "python",
   "pygments_lexer": "ipython3",
   "version": "3.10.6"
  }
 },
 "nbformat": 4,
 "nbformat_minor": 5
}
