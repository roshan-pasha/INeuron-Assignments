{
 "cells": [
  {
   "cell_type": "markdown",
   "id": "271394af-e0bc-40f0-ae54-ee2c0150c635",
   "metadata": {},
   "source": [
    "# Mock Test 1 - Data Science"
   ]
  },
  {
   "cell_type": "markdown",
   "id": "c1d6529e-3509-4227-b004-d4dd1f4948db",
   "metadata": {},
   "source": [
    "17. Write a function that takes a list of numbers as input and returns a new list containing only the even numbers from the input list. Use list comprehension to solve this problem."
   ]
  },
  {
   "cell_type": "code",
   "execution_count": 29,
   "id": "3fa7a370-76fc-4544-851f-773e51cd36ea",
   "metadata": {},
   "outputs": [],
   "source": [
    "def even(lis):\n",
    "    return [i for i in lis if i%2 == 0] \n",
    "            "
   ]
  },
  {
   "cell_type": "code",
   "execution_count": 35,
   "id": "dae3d6d2-66c1-4441-af58-ad974884311c",
   "metadata": {},
   "outputs": [
    {
     "name": "stdin",
     "output_type": "stream",
     "text": [
      " 1 2 3 4 5\n"
     ]
    },
    {
     "data": {
      "text/plain": [
       "[2, 4]"
      ]
     },
     "execution_count": 35,
     "metadata": {},
     "output_type": "execute_result"
    }
   ],
   "source": [
    "even(list(map(int,input().split()))) #enter the input with a space- example 1 2 4 10 21"
   ]
  },
  {
   "cell_type": "markdown",
   "id": "4b203cc5-d41e-410a-9c67-36c7b0198ec6",
   "metadata": {},
   "source": [
    "18. Implement a decorator function called ‘timer’ that measures the execution time of a function. The ‘timer’ decorator should print the time taken by the decorated function to execute. Use the ‘time’ module in Python to calculate the execution time.\n"
   ]
  },
  {
   "cell_type": "code",
   "execution_count": 36,
   "id": "899d590f-383e-4cdd-890f-39b9c98bcfa4",
   "metadata": {},
   "outputs": [
    {
     "name": "stdout",
     "output_type": "stream",
     "text": [
      "Execution time: 2.002074956893921 seconds\n"
     ]
    }
   ],
   "source": [
    "import time\n",
    "\n",
    "def timer(func):\n",
    "    def wrapper(*args, **kwargs):\n",
    "        start_time = time.time()  # Record the start time\n",
    "        result = func(*args, **kwargs)  # Execute the decorated function\n",
    "        end_time = time.time()  # Record the end time\n",
    "        execution_time = end_time - start_time  # Calculate the execution time\n",
    "        print(f\"Execution time: {execution_time} seconds\")\n",
    "        return result\n",
    "    return wrapper\n",
    "\n",
    "@timer\n",
    "def my_function():\n",
    "    # Code to be timed\n",
    "    time.sleep(2)  # Simulating a function with a 2-second delay\n",
    "\n",
    "my_function()\n"
   ]
  },
  {
   "cell_type": "markdown",
   "id": "bae7788c-e153-4093-ab6b-134a30824e82",
   "metadata": {},
   "source": [
    "19. Write a function called ‘calculate_mean’ that takes a list of numbers as input and returns the mean (average) of the numbers. The function should calculate the mean using the sum of the numbers divided by the total count."
   ]
  },
  {
   "cell_type": "code",
   "execution_count": 37,
   "id": "688ca887-db8e-42e7-aa44-70c960c35058",
   "metadata": {},
   "outputs": [],
   "source": [
    "def calculated_mean(lis):\n",
    "    total = sum([i for i in lis])\n",
    "    count = len(lis)\n",
    "    mean = total / count\n",
    "    return mean"
   ]
  },
  {
   "cell_type": "code",
   "execution_count": 40,
   "id": "36e39f3d-573d-42ab-8677-3a9a9cfb48f3",
   "metadata": {},
   "outputs": [
    {
     "name": "stdin",
     "output_type": "stream",
     "text": [
      " 10 15 20 25 30\n"
     ]
    },
    {
     "data": {
      "text/plain": [
       "20.0"
      ]
     },
     "execution_count": 40,
     "metadata": {},
     "output_type": "execute_result"
    }
   ],
   "source": [
    "calculated_mean(list(map(float,input().split()))) #enter the input with a space- example 1 2 4 10 21"
   ]
  },
  {
   "cell_type": "markdown",
   "id": "5b2eacd8-f0e7-4e10-af38-f2001135ab05",
   "metadata": {},
   "source": [
    "20. Write a function called ‘perform_hypothesis_test’ that takes two lists of numbers as input, representing two samples. The function should perform a two-sample t-test and return the p-value. Use the ‘scipy.stats’ module in Python to calculate the t-test and p-value."
   ]
  },
  {
   "cell_type": "code",
   "execution_count": 50,
   "id": "1002081f-5488-4158-a27e-7d911834630b",
   "metadata": {},
   "outputs": [],
   "source": [
    "from scipy.stats import ttest_ind\n",
    "\n",
    "def perform_hypothesis_test(sample1, sample2):\n",
    "    t_statistic, p_value = ttest_ind(sample1, sample2)\n",
    "    \n",
    "    return p_value\n"
   ]
  },
  {
   "cell_type": "code",
   "execution_count": 51,
   "id": "70475f8b-39bd-4852-af60-a5c5f85baa16",
   "metadata": {},
   "outputs": [
    {
     "name": "stdout",
     "output_type": "stream",
     "text": [
      "P-value: 0.09434977284243756\n"
     ]
    }
   ],
   "source": [
    "sample1 = [5, 10, 15, 20, 25]\n",
    "sample2 = [10, 20, 30, 40, 50]\n",
    "p_value = perform_hypothesis_test(sample1, sample2)\n",
    "print(\"P-value:\", p_value)\n"
   ]
  },
  {
   "cell_type": "code",
   "execution_count": null,
   "id": "2bc24fb9-7892-4082-81b9-f93622691f33",
   "metadata": {},
   "outputs": [],
   "source": []
  }
 ],
 "metadata": {
  "kernelspec": {
   "display_name": "Python 3 (ipykernel)",
   "language": "python",
   "name": "python3"
  },
  "language_info": {
   "codemirror_mode": {
    "name": "ipython",
    "version": 3
   },
   "file_extension": ".py",
   "mimetype": "text/x-python",
   "name": "python",
   "nbconvert_exporter": "python",
   "pygments_lexer": "ipython3",
   "version": "3.10.6"
  }
 },
 "nbformat": 4,
 "nbformat_minor": 5
}
