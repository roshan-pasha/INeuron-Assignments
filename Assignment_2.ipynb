{
 "cells": [
  {
   "cell_type": "markdown",
   "id": "66a8f099-dd8b-4dd7-aee8-fe28a3427285",
   "metadata": {},
   "source": [
    "    1.What are the two values of the Boolean data type? How do you write them?\n",
    "\n",
    "    A boolean is a data type with two possible values: True , False"
   ]
  },
  {
   "cell_type": "markdown",
   "id": "eda5d63a-06e5-4e76-b0ba-de7daa484c5b",
   "metadata": {},
   "source": [
    "2. What are the three different types of Boolean operators?\n",
    "    \n",
    "    Boolean Operators are simple words (AND, OR, NOT or AND NOT) used as conjunctions to combine or exclude keywords in     a search, resulting in more focused and productive results."
   ]
  },
  {
   "cell_type": "markdown",
   "id": "c064b933-9a09-49f3-8dc7-b263e229ebb6",
   "metadata": {},
   "source": [
    "3. Make a list of each Boolean operator&#39;s truth tables (i.e. every possible combination of Boolean\n",
    "   values for the operator and what it evaluate ).\n",
    "   \n",
    "   Ans :  Boolean Truth Table\t\t\t\t\n",
    "          Boolean Truth Table\t\t\t\t\n",
    "A\t|   not A |\tB |\tA and B |\tA or B\n",
    "\n",
    "True\tFalse\tTrue\tTrue\tTrue\n",
    "\n",
    "False\tTrue\tTrue\tFalse\tTrue\n",
    "\n",
    "True\t\t   False\tFalse\tTrue\n",
    "\n",
    "False\t\t   False\tFalse\tFalse\n"
   ]
  },
  {
   "cell_type": "markdown",
   "id": "4229c8b3-8c36-44b4-9e2e-0957dd4d517c",
   "metadata": {},
   "source": [
    "4. What are the values of the following expressions?\n",
    "\n",
    "    a. (5>4) and (3==5) --> False\n",
    "    \n",
    "    b. not(5>4) --> False\n",
    "    \n",
    "    c. (5>4) or (3==5) --> True\n",
    "    \n",
    "    d. not ((5 > 4) or (3 == 5)) --> False\n",
    "    \n",
    "    e. (True and True) and (True == False) --> False\n",
    "    \n",
    "    f. (not False) or (not True) --> True\n"
   ]
  },
  {
   "cell_type": "markdown",
   "id": "8bf41aef-7ee0-4873-b0d1-4f3a5e587bc8",
   "metadata": {},
   "source": [
    "5. What are the six comparison operators?"
   ]
  },
  {
   "cell_type": "raw",
   "id": "a0e3d239-932c-4588-be76-4520b2e7fae5",
   "metadata": {},
   "source": [
    "  Comparison operators are used to compare two values:\n",
    "  \n",
    "  Operator\tName\t   Example\t\n",
    "    ==\t   Equal\t    x == y\t\n",
    "    !=\t   Not equal\tx != y\t\n",
    "    >\tGreater than\tx > y\t\n",
    "    <\tLess than\tx < y\t\n",
    "    >=\tGreater than or equal to\tx >= y\t\n",
    "    <=\tLess than or equal to\tx <= y"
   ]
  },
  {
   "cell_type": "raw",
   "id": "f76720ca-0459-4b6b-a36f-085976d99548",
   "metadata": {},
   "source": [
    "\n",
    "6. How do you tell the difference between the equal to and assignment operators?Describe a\n",
    "condition and when you would use one.\n",
    "  Ans : The “=” is an assignment operator used to assign the value on the right to the variable on the left. \n",
    "          Example : a = 10\n",
    "        The ‘==’ operator checks whether the two given operands are equal or not. If so, it returns true. Otherwise it returns false. \n",
    "           Example : 5 == 5 "
   ]
  },
  {
   "cell_type": "markdown",
   "id": "30443b17-3543-44d0-8399-a3cc9a41f73b",
   "metadata": {},
   "source": [
    "7. Identify the three blocks in this code:\n"
   ]
  },
  {
   "cell_type": "code",
   "execution_count": 7,
   "id": "acf732e2-3034-451e-9ae2-ce40e69fe8b1",
   "metadata": {},
   "outputs": [
    {
     "name": "stdout",
     "output_type": "stream",
     "text": [
      "ham\n",
      "spam\n",
      "spam\n"
     ]
    }
   ],
   "source": [
    "spam = 0\n",
    "if spam == 10:\n",
    "    print('eggs')\n",
    "if spam > 5:\n",
    "    print('beacon')\n",
    "else:\n",
    "    print('ham')\n",
    "    print('spam')\n",
    "    print('spam')\n",
    "    "
   ]
  },
  {
   "cell_type": "markdown",
   "id": "25ef239a-cbaf-4873-8c9d-c45cbacd62bc",
   "metadata": {},
   "source": [
    "8. Write code that prints Hello if 1 is stored in spam, prints Howdy if 2 is stored in spam, and prints\n",
    "\n",
    "   Greetings! if anything else is stored in spam."
   ]
  },
  {
   "cell_type": "code",
   "execution_count": 17,
   "id": "0c8ba78a-692c-4dcc-a8c6-642212c6fcdd",
   "metadata": {},
   "outputs": [],
   "source": [
    "def enter(spam):\n",
    "    if spam == 1:\n",
    "        return \"Hello\"\n",
    "    elif spam == 2:\n",
    "        return \"Howdy\"\n",
    "    return \"Greetings!\"\n",
    "#for input use \"enter(spam)\""
   ]
  },
  {
   "cell_type": "markdown",
   "id": "7869fd1f-e8eb-4eb6-8736-7017fab3def5",
   "metadata": {},
   "source": [
    "9.If your programme is stuck in an endless loop, what keys you’ll press?\n",
    "\n",
    "  Ans : Ctl + C"
   ]
  },
  {
   "cell_type": "markdown",
   "id": "ecab45f9-80a6-463e-b51d-2f667ab44510",
   "metadata": {},
   "source": [
    "10. How can you tell the difference between break and continue?\n",
    "\n",
    "    Break:A break statement in Python alters the flow of a loop by terminating it once a specified condition is met. \n",
    "    \n",
    "    Continue: The continue statement in Python is used to skip the remaining code inside a loop for the current iteration       only."
   ]
  },
  {
   "cell_type": "markdown",
   "id": "e4fe075c-01c1-443f-8b92-a012ece1325d",
   "metadata": {},
   "source": [
    "11. In a for loop, what is the difference between range(10), range(0, 10), and range(0, 10, 1)?\n",
    "    \n",
    "    range([start], stop[, step])\n",
    "    \n",
    "    range(10) --> starts with 0 and runs till 9\n",
    "    \n",
    "    range(0, 10) --> starts with 0 and runs till 9\n",
    "    \n",
    "    range(0,10,1) --> starts with 0 and runs till 9 as the step is 1 so the loop runs 10 times\n"
   ]
  },
  {
   "cell_type": "markdown",
   "id": "5de6ae18-ed87-404a-81d1-883052070ac9",
   "metadata": {},
   "source": [
    "12. Write a short program that prints the numbers 1 to 10 using a for loop. Then write an equivalent\n",
    "program that prints the numbers 1 to 10 using a while loop."
   ]
  },
  {
   "cell_type": "code",
   "execution_count": 25,
   "id": "bc52f2fc-79b8-432e-a2ef-f2aeaff738a4",
   "metadata": {},
   "outputs": [
    {
     "name": "stdout",
     "output_type": "stream",
     "text": [
      "1\n",
      "2\n",
      "3\n",
      "4\n",
      "5\n",
      "6\n",
      "7\n",
      "8\n",
      "9\n",
      "10\n"
     ]
    }
   ],
   "source": [
    "#for loop\n",
    "for i in range(1,11):\n",
    "    print(i)\n",
    "    \n",
    "    "
   ]
  },
  {
   "cell_type": "code",
   "execution_count": 29,
   "id": "d76b066b-cba0-4e6f-b21a-cc0243acdf41",
   "metadata": {},
   "outputs": [
    {
     "name": "stdout",
     "output_type": "stream",
     "text": [
      "1\n",
      "2\n",
      "3\n",
      "4\n",
      "5\n",
      "6\n",
      "7\n",
      "8\n",
      "9\n",
      "10\n"
     ]
    }
   ],
   "source": [
    "#while loop\n",
    "i = 1\n",
    "while i <11:\n",
    "    print(i)\n",
    "    i = i+1"
   ]
  },
  {
   "cell_type": "markdown",
   "id": "a5834279-3c85-401d-a761-34ae2cca5311",
   "metadata": {},
   "source": [
    "13. If you had a function named bacon() inside a module named spam, how would you call it after\n",
    "importing spam?\n",
    "\n",
    " Ans : This function can be called with spam.bacon()."
   ]
  },
  {
   "cell_type": "code",
   "execution_count": null,
   "id": "33f619d3-e5d9-4b50-8afd-05106cef1661",
   "metadata": {},
   "outputs": [],
   "source": []
  }
 ],
 "metadata": {
  "kernelspec": {
   "display_name": "Python 3 (ipykernel)",
   "language": "python",
   "name": "python3"
  },
  "language_info": {
   "codemirror_mode": {
    "name": "ipython",
    "version": 3
   },
   "file_extension": ".py",
   "mimetype": "text/x-python",
   "name": "python",
   "nbconvert_exporter": "python",
   "pygments_lexer": "ipython3",
   "version": "3.10.6"
  }
 },
 "nbformat": 4,
 "nbformat_minor": 5
}
