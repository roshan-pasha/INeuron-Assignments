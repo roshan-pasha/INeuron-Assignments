{
 "cells": [
  {
   "cell_type": "markdown",
   "id": "f0bdf484-d1db-432c-93bd-5714d41ef7f8",
   "metadata": {},
   "source": [
    "# 10th June - Python (Functions Assignment) - 1"
   ]
  },
  {
   "cell_type": "markdown",
   "id": "8e75ec01-32b8-482f-8635-9d53e34f029d",
   "metadata": {},
   "source": [
    "1. In Python, what is the difference between a built-in function and a user-defined function? Provide an\n",
    "example of each."
   ]
  },
  {
   "cell_type": "markdown",
   "id": "535d4738-4e7c-4c61-9cf1-fc7cb9d84f79",
   "metadata": {},
   "source": [
    "Built-in functions: These are functions that are pre-defined in the Python language and are readily available for use without any additional steps. They are part of the Python standard library and cover a wide range of functionalities. Some examples of built-in functions are print(), len(), and input()."
   ]
  },
  {
   "cell_type": "code",
   "execution_count": 1,
   "id": "e34ce1df-b846-4671-922a-71de4b5f1487",
   "metadata": {},
   "outputs": [
    {
     "name": "stdout",
     "output_type": "stream",
     "text": [
      "print is a builtin function\n"
     ]
    }
   ],
   "source": [
    "#Example for built in function\n",
    "print(\"print is a builtin function\")"
   ]
  },
  {
   "cell_type": "markdown",
   "id": "a4d3a642-585f-4717-b214-b67c5951fe8f",
   "metadata": {},
   "source": [
    "User-defined functions: These are functions created by the users or programmers to perform specific tasks based on their requirements. They are defined using the def keyword followed by a function name, parentheses for optional parameters, and a colon to indicate the start of the function body. User-defined functions can be written and reused throughout a program as needed."
   ]
  },
  {
   "cell_type": "code",
   "execution_count": 8,
   "id": "b320795e-87de-460c-a04d-d815a649e681",
   "metadata": {},
   "outputs": [
    {
     "name": "stdout",
     "output_type": "stream",
     "text": [
      "120\n"
     ]
    }
   ],
   "source": [
    "#Example for User-defined function\n",
    "def factorial(n):\n",
    "    result = 1\n",
    "    for i in range(1,n+1):\n",
    "        result *= i\n",
    "    return result\n",
    "num = 5\n",
    "print(factorial(num))\n"
   ]
  },
  {
   "cell_type": "code",
   "execution_count": null,
   "id": "93a93842-5472-48f8-922b-963546734634",
   "metadata": {},
   "outputs": [],
   "source": []
  },
  {
   "cell_type": "markdown",
   "id": "9a6c3619-0f95-4088-a577-80e78516f9ae",
   "metadata": {},
   "source": [
    "2. How can you pass arguments to a function in Python? Explain the difference between positional\n",
    "arguments and keyword arguments."
   ]
  },
  {
   "cell_type": "markdown",
   "id": "7bc88c12-9d46-43c2-988e-754f33a3757b",
   "metadata": {},
   "source": [
    "Positional arguments: These are arguments that are passed to a function based on their position or order. The order in which the arguments are passed must match the order in which the function expects them. Positional arguments are the most basic way to pass arguments to a function.\n"
   ]
  },
  {
   "cell_type": "code",
   "execution_count": 37,
   "id": "c402f79b-7460-46ca-8863-0c6fd579aaf2",
   "metadata": {},
   "outputs": [],
   "source": [
    "#Example \n",
    "def car(brand,color,price):\n",
    "    return f\"I own {brand} car of {color} color and i bought it for {price}.\"\n",
    "\n",
    "    "
   ]
  },
  {
   "cell_type": "code",
   "execution_count": 40,
   "id": "266735ea-d392-4b94-86d8-09f064fa9f77",
   "metadata": {},
   "outputs": [
    {
     "data": {
      "text/plain": [
       "'I own Renault car of White color and i bought it for 750000.'"
      ]
     },
     "execution_count": 40,
     "metadata": {},
     "output_type": "execute_result"
    }
   ],
   "source": [
    "car(\"Renault\",\"White\",750000) #passing arguments in the function : the arguments are passed in the same order as defined in the function definition."
   ]
  },
  {
   "cell_type": "markdown",
   "id": "855121a3-ed60-4b6e-b548-45f396f14bad",
   "metadata": {},
   "source": [
    "Keyword arguments: These are arguments that are passed to a function using their corresponding parameter names. Keyword arguments allow you to specify arguments in any order, regardless of their position in the function definition. They are useful when you want to provide only a subset of the arguments or when you want to make the code more readable."
   ]
  },
  {
   "cell_type": "code",
   "execution_count": 41,
   "id": "5ac1221f-3d8d-482b-9e5f-a7e3aa301d91",
   "metadata": {},
   "outputs": [
    {
     "data": {
      "text/plain": [
       "'I own Suzuki car of Black color and i bought it for 8L.'"
      ]
     },
     "execution_count": 41,
     "metadata": {},
     "output_type": "execute_result"
    }
   ],
   "source": [
    "car(price = \"8L\" , color = \"Black\" ,brand = \"Suzuki\")"
   ]
  },
  {
   "cell_type": "code",
   "execution_count": null,
   "id": "959feb20-46b5-4009-aac2-d9e25d2f6ad5",
   "metadata": {},
   "outputs": [],
   "source": []
  },
  {
   "cell_type": "markdown",
   "id": "416293e4-6ba4-46d3-b4d1-315852bf6adc",
   "metadata": {},
   "source": [
    "3. What is the purpose of the return statement in a function? Can a function have multiple return\n",
    "statements? Explain with an example."
   ]
  },
  {
   "cell_type": "markdown",
   "id": "4bc6706f-1079-4a92-92d8-4e088f18fb8b",
   "metadata": {},
   "source": [
    "The return statement in a function is used to specify the value that the function should return to the caller. It allows a function to compute a result or perform certain operations and then provide the result back to the code that called the function. The return statement also serves as a way to exit the function, terminating its execution.\n",
    "\n",
    "A function can indeed have multiple return statements. When a return statement is encountered, the function execution immediately ends, and the value specified in the return statement is returned to the caller. Having multiple return statements allows you to conditionally return different values based on certain conditions within the function."
   ]
  },
  {
   "cell_type": "code",
   "execution_count": 43,
   "id": "d34d00fa-a958-49a5-a993-b867934e0281",
   "metadata": {},
   "outputs": [
    {
     "data": {
      "text/plain": [
       "'car is mid-range.'"
      ]
     },
     "execution_count": 43,
     "metadata": {},
     "output_type": "execute_result"
    }
   ],
   "source": [
    "def car(brand,color,price):\n",
    "    if price < 500000:\n",
    "        return \"car is low-range.\"\n",
    "    elif price >500000 and price < 1500000:\n",
    "        return \"car is mid-range.\"\n",
    "    return \"Premium car\"\n",
    "\n",
    "car(price = 1000000,color=\"white\",brand = \"Kia\")   \n"
   ]
  },
  {
   "cell_type": "code",
   "execution_count": null,
   "id": "e1942847-4665-4551-9ff1-d14347c1ef6e",
   "metadata": {},
   "outputs": [],
   "source": []
  },
  {
   "cell_type": "markdown",
   "id": "e7af694e-6092-4bcf-af21-7992870bf225",
   "metadata": {},
   "source": [
    "4. What are lambda functions in Python? How are they different from regular functions? Provide an\n",
    "example where a lambda function can be useful."
   ]
  },
  {
   "cell_type": "markdown",
   "id": "3bd8ebbf-8a52-455a-9214-56ba4ff80305",
   "metadata": {},
   "source": [
    "lambda function is a small anonymous function that can be defined without a name. It is also known as an \"anonymous function\" because it doesn't require the use of the def keyword and a function name. Instead, a lambda function is created using the lambda keyword, followed by one or more arguments, a colon, and an expression. The result of the expression is automatically returned by the lambda function.\n",
    "\n",
    "Syntax:\n",
    "\n",
    "lambda arguments: expression\n",
    "\n",
    "Lambda functions are different from regular functions in the following ways:\n",
    "\n",
    "Anonymous: Lambda functions do not have a name. They are defined on the spot and are typically used for simple, one-time operations where a named function is not necessary.\n",
    "\n",
    "Concise: Lambda functions are often used for short, single-expression functions. They are designed to be concise and provide a compact way of writing functions without the need for a full function definition.\n",
    "\n",
    "Limited functionality: Lambda functions are limited in functionality compared to regular functions. They can only contain a single expression, and they cannot contain statements or multiple lines of code.\n",
    "\n",
    "Lambda functions can be useful in situations where you need to define a small function on the fly without the need for a named function. They are commonly used in functional programming paradigms and in combination with other functions such as map(), filter(), and reduce()."
   ]
  },
  {
   "cell_type": "code",
   "execution_count": 44,
   "id": "330dff45-0c14-486b-b347-fb57d93454e5",
   "metadata": {},
   "outputs": [
    {
     "name": "stdout",
     "output_type": "stream",
     "text": [
      "[1, 4, 9, 16, 25]\n"
     ]
    }
   ],
   "source": [
    "num = [1,2,3,4,5]\n",
    "square = list(map(lambda x: x**2,num))\n",
    "print(square)"
   ]
  },
  {
   "cell_type": "code",
   "execution_count": null,
   "id": "2c7d438a-db9b-4fcc-8a21-3152ff704fa9",
   "metadata": {},
   "outputs": [],
   "source": [
    "\n"
   ]
  },
  {
   "cell_type": "markdown",
   "id": "339869e6-7d8d-4477-93b1-136396b3cc4c",
   "metadata": {},
   "source": [
    "5. How does the concept of \"scope\" apply to functions in Python? Explain the difference between local\n",
    "scope and global scope."
   ]
  },
  {
   "cell_type": "markdown",
   "id": "3dafcb86-cfe5-4245-a96e-2fc93988c7f5",
   "metadata": {},
   "source": [
    "In Python, \"scope\" refers to the region or context in which a variable or name can be referenced. It determines the visibility and accessibility of variables within different parts of the code. The concept of scope applies to functions in Python, and there are two main types of scope: local scope and global scope.\n",
    "\n",
    "Local scope: Local scope refers to the region within a function where variables are defined. Variables defined within a function have local scope and are accessible only within that function. Local variables are created when the function is called and are destroyed when the function completes its execution. They cannot be accessed from outside the function.\n",
    "\n",
    "Global scope: Global scope refers to the region outside any function or block of code. Variables defined in the global scope are accessible throughout the entire program. They can be accessed from any part of the code, including inside functions."
   ]
  },
  {
   "cell_type": "code",
   "execution_count": 61,
   "id": "bd257b43-4436-4d44-84fa-5bb19bbfeb12",
   "metadata": {},
   "outputs": [
    {
     "name": "stdout",
     "output_type": "stream",
     "text": [
      "10\n",
      "20\n",
      "20\n"
     ]
    }
   ],
   "source": [
    "y = 20  # Global variable\n",
    "\n",
    "def my_function():\n",
    "    x = 10\n",
    "    print(x)  #Accessible onlywithin the function\n",
    "    print(y)  # Accessible within the function\n",
    "\n",
    "my_function()\n",
    "print(y)  # Accessible outside the function\n",
    "\n",
    "\n",
    "\n",
    "\n",
    "\n"
   ]
  },
  {
   "cell_type": "markdown",
   "id": "32dd5c16-8467-4b9f-8636-08f064850007",
   "metadata": {},
   "source": [
    "6. How can you use the \"return\" statement in a Python function to return multiple values?"
   ]
  },
  {
   "cell_type": "markdown",
   "id": "1b115628-c5fe-4d28-a892-62ccc1177fac",
   "metadata": {},
   "source": [
    "return statement in a function can be used to return multiple values by utilizing data structures like tuples, lists, or dictionaries. These data structures allow you to combine multiple values into a single object, which can then be returned from the function."
   ]
  },
  {
   "cell_type": "code",
   "execution_count": 62,
   "id": "85eaaf27-c059-4e09-a33f-cdc9cf1ad46d",
   "metadata": {},
   "outputs": [],
   "source": [
    "def laptop(brand,processor,price):\n",
    "    return [brand,processor,price]\n",
    "    "
   ]
  },
  {
   "cell_type": "code",
   "execution_count": 63,
   "id": "dd853d33-1764-4348-a8cd-ce08ce8890b8",
   "metadata": {},
   "outputs": [
    {
     "data": {
      "text/plain": [
       "['hp', 'gen3', 50000]"
      ]
     },
     "execution_count": 63,
     "metadata": {},
     "output_type": "execute_result"
    }
   ],
   "source": [
    "laptop(\"hp\",\"gen3\",50000)"
   ]
  },
  {
   "cell_type": "markdown",
   "id": "a8754a26-101a-4288-aa35-bb805f2b0630",
   "metadata": {},
   "source": [
    "7. What is the difference between the \"pass by value\" and \"pass by reference\" concepts when it\n",
    "comes to function arguments in Python?"
   ]
  },
  {
   "cell_type": "markdown",
   "id": "42092293-c0c2-4c13-93ab-4668ca053afd",
   "metadata": {},
   "source": [
    "In Python, \"scope\" refers to the region or context in which a variable or name can be referenced. It determines the visibility and accessibility of variables within different parts of the code. The concept of scope applies to functions in Python, and there are two main types of scope: local scope and global scope.\n",
    "\n",
    "1. Local scope: Local scope refers to the region within a function where variables are defined. Variables defined within a function have local scope and are accessible only within that function. Local variables are created when the function is called and are destroyed when the function completes its execution. They cannot be accessed from outside the function.\n",
    "\n",
    "Here's an example illustrating local scope:\n",
    "\n",
    "```python\n",
    "def my_function():\n",
    "    x = 10\n",
    "    print(x)  # Accessible within the function\n",
    "\n",
    "my_function()\n",
    "# print(x)  # Error: x is not defined outside the function\n",
    "```\n",
    "\n",
    "In the example above, the variable `x` is defined within the `my_function()` function. It has local scope, which means it can be accessed only within the function. Trying to access `x` outside the function will result in an error.\n",
    "\n",
    "2. Global scope: Global scope refers to the region outside any function or block of code. Variables defined in the global scope are accessible throughout the entire program. They can be accessed from any part of the code, including inside functions.\n",
    "\n",
    "Here's an example illustrating global scope:\n",
    "\n",
    "```python\n",
    "y = 20  # Global variable\n",
    "\n",
    "def my_function():\n",
    "    print(y)  # Accessible within the function\n",
    "\n",
    "my_function()\n",
    "print(y)  # Accessible outside the function\n",
    "```\n",
    "\n",
    "In the example above, the variable `y` is defined outside the `my_function()` function. It has global scope, which means it can be accessed both within and outside the function. The value of `y` can be printed from within the function and also outside the function.\n",
    "\n",
    "It's important to note that if a variable with the same name is defined both globally and locally within a function, the local variable takes precedence within the function. This is known as variable shadowing, where the local variable overshadows the global variable with the same name.\n",
    "\n",
    "Understanding and managing scope is crucial to avoid naming conflicts and to ensure that variables are accessed and modified correctly within functions and the broader program."
   ]
  },
  {
   "cell_type": "code",
   "execution_count": null,
   "id": "16ab3dc3-de7b-4c93-b1a1-3240e4ae1cf1",
   "metadata": {},
   "outputs": [],
   "source": []
  },
  {
   "cell_type": "markdown",
   "id": "caaa1bca-03fd-46c9-ab69-bf5ab775f009",
   "metadata": {},
   "source": [
    "8. Create a function that can intake integer or decimal value and do following operations:\n",
    "\n",
    "a. Logarithmic function (log x)\n",
    "\n",
    "b. Exponential function (exp(x))\n",
    "\n",
    "c. Power function with base 2 (2x)\n",
    "\n",
    "d. Square root"
   ]
  },
  {
   "cell_type": "code",
   "execution_count": 77,
   "id": "d737c8de-88b9-4e89-8061-132afd474ca8",
   "metadata": {},
   "outputs": [],
   "source": [
    "import math\n",
    "def math_operation(x):\n",
    "    Logarithmic_function = math.log(x)\n",
    "    Exponential_function = math.exp(x)\n",
    "    Power_function_with_base2 = math.pow(x,2)\n",
    "    squareroot = math.sqrt(x)\n",
    "    return print(Logarithmic_function,\"\\n\",Exponential_function,\"\\n\",Power_function_with_base2,\"\\n\",squareroot) "
   ]
  },
  {
   "cell_type": "code",
   "execution_count": 78,
   "id": "4d9ede01-14c1-49b8-8f7e-2e7cca9b9cd2",
   "metadata": {},
   "outputs": [
    {
     "name": "stdout",
     "output_type": "stream",
     "text": [
      "2.302585092994046 \n",
      " 22026.465794806718 \n",
      " 100.0 \n",
      " 3.1622776601683795\n"
     ]
    }
   ],
   "source": [
    "math_operation(10)"
   ]
  },
  {
   "cell_type": "code",
   "execution_count": null,
   "id": "334779ce-e5ab-4ed7-a8c1-4479000a8287",
   "metadata": {},
   "outputs": [],
   "source": []
  },
  {
   "cell_type": "markdown",
   "id": "14358b74-616a-4ff7-b849-0f3d588d7a79",
   "metadata": {},
   "source": [
    "9. Create a function that takes a full name as an argument and returns first name and last name."
   ]
  },
  {
   "cell_type": "code",
   "execution_count": 88,
   "id": "4090f58e-ce63-4a41-8256-58c3c0011a16",
   "metadata": {},
   "outputs": [],
   "source": [
    "def name(name):\n",
    "    lis = name.split()\n",
    "    if len(lis) > 1:\n",
    "        return print(f\"First Name : {lis[0]} and Last Name : {lis[-1]}.\")\n",
    "    return print(f\"First Name : {lis[0]} and Last Name : 'no last name'\")"
   ]
  },
  {
   "cell_type": "code",
   "execution_count": 90,
   "id": "a6449dff-37da-448f-a839-0e194925595a",
   "metadata": {},
   "outputs": [
    {
     "name": "stdout",
     "output_type": "stream",
     "text": [
      "First Name : Roshan and Last Name : pasha.\n"
     ]
    }
   ],
   "source": [
    "name(\"Roshan pasha\")"
   ]
  },
  {
   "cell_type": "code",
   "execution_count": 83,
   "id": "e1d1d654-b706-4d37-a54f-d03727d455a6",
   "metadata": {},
   "outputs": [
    {
     "data": {
      "text/plain": [
       "3"
      ]
     },
     "execution_count": 83,
     "metadata": {},
     "output_type": "execute_result"
    }
   ],
   "source": []
  },
  {
   "cell_type": "code",
   "execution_count": null,
   "id": "51e0faeb-bb64-40be-956f-cafc08f14ccf",
   "metadata": {},
   "outputs": [],
   "source": []
  }
 ],
 "metadata": {
  "kernelspec": {
   "display_name": "Python 3 (ipykernel)",
   "language": "python",
   "name": "python3"
  },
  "language_info": {
   "codemirror_mode": {
    "name": "ipython",
    "version": 3
   },
   "file_extension": ".py",
   "mimetype": "text/x-python",
   "name": "python",
   "nbconvert_exporter": "python",
   "pygments_lexer": "ipython3",
   "version": "3.10.6"
  }
 },
 "nbformat": 4,
 "nbformat_minor": 5
}
