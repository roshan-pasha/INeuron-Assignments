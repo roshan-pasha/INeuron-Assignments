{
 "cells": [
  {
   "cell_type": "markdown",
   "id": "9679b53d-7845-4b81-b7cf-da07f9c0972d",
   "metadata": {},
   "source": [
    "# Assignment 4"
   ]
  },
  {
   "cell_type": "markdown",
   "id": "638920bb-fc96-4538-9055-c8bca5c23f51",
   "metadata": {},
   "source": [
    "1. What exactly is []?\n",
    "\n",
    "    Ans : empty list"
   ]
  },
  {
   "cell_type": "markdown",
   "id": "36d4983b-e048-4517-a5a8-ce195c47c0d5",
   "metadata": {},
   "source": [
    "2. In a list of values stored in a variable called spam, how would you assign the value \"hello\" as the\n",
    "    third value? (Assume [2, 4, 6, 8, 10] are in spam.)"
   ]
  },
  {
   "cell_type": "code",
   "execution_count": 5,
   "id": "3c256e29-90d7-4d74-97cb-087af7e8a257",
   "metadata": {},
   "outputs": [
    {
     "data": {
      "text/plain": [
       "[2, 4, 'hello', 6, 8, 10]"
      ]
     },
     "execution_count": 5,
     "metadata": {},
     "output_type": "execute_result"
    }
   ],
   "source": [
    "spam =  [2, 4, 6, 8, 10]\n",
    "spam.insert(2,\"hello\")\n",
    "spam"
   ]
  },
  {
   "cell_type": "code",
   "execution_count": 6,
   "id": "113dac02-8fe3-4aa5-ae50-a5ae36d65eff",
   "metadata": {},
   "outputs": [],
   "source": [
    "spam = ['a','b','c','d']"
   ]
  },
  {
   "cell_type": "code",
   "execution_count": 7,
   "id": "485dc44d-c522-4646-9285-e80116ca5ec5",
   "metadata": {},
   "outputs": [
    {
     "data": {
      "text/plain": [
       "'d'"
      ]
     },
     "execution_count": 7,
     "metadata": {},
     "output_type": "execute_result"
    }
   ],
   "source": [
    "## 3. What is the value of spam[int(int(&#39;3&#39; * 2) / 11)]?\n",
    "spam[int(int('3'*2)/11)]"
   ]
  },
  {
   "cell_type": "code",
   "execution_count": 8,
   "id": "b822967a-9322-4fb5-b63c-603bec8041eb",
   "metadata": {},
   "outputs": [
    {
     "data": {
      "text/plain": [
       "'d'"
      ]
     },
     "execution_count": 8,
     "metadata": {},
     "output_type": "execute_result"
    }
   ],
   "source": [
    "## 4. What is the value of spam[-1]?\n",
    "spam[-1] "
   ]
  },
  {
   "cell_type": "code",
   "execution_count": 9,
   "id": "d3244bfc-a5b5-4709-8803-55360450734c",
   "metadata": {},
   "outputs": [
    {
     "data": {
      "text/plain": [
       "['a', 'b']"
      ]
     },
     "execution_count": 9,
     "metadata": {},
     "output_type": "execute_result"
    }
   ],
   "source": [
    "##5. What is the value of spam[:2]?\n",
    "spam[:2]"
   ]
  },
  {
   "cell_type": "code",
   "execution_count": 19,
   "id": "1520eeb3-0a52-4a5b-84eb-96ff7efb2a37",
   "metadata": {},
   "outputs": [],
   "source": [
    "bacon = [3.14, 'cat', 11, 'cat', True]"
   ]
  },
  {
   "cell_type": "code",
   "execution_count": 20,
   "id": "f6294e8e-11d0-4393-b9d8-a6dcf7f4ebac",
   "metadata": {},
   "outputs": [
    {
     "data": {
      "text/plain": [
       "1"
      ]
     },
     "execution_count": 20,
     "metadata": {},
     "output_type": "execute_result"
    }
   ],
   "source": [
    "##6. What is the value of bacon.index('cat')?\n",
    "bacon.index('cat')"
   ]
  },
  {
   "cell_type": "code",
   "execution_count": 21,
   "id": "2f68500b-7451-4719-8296-730232c8a246",
   "metadata": {},
   "outputs": [
    {
     "name": "stdout",
     "output_type": "stream",
     "text": [
      "[3.14, 'cat', 11, 'cat', True, 99]\n"
     ]
    }
   ],
   "source": [
    "##7. How does bacon.append(99) change the look of the list value in bacon?\n",
    "bacon.append(99)\n",
    "print(bacon)"
   ]
  },
  {
   "cell_type": "code",
   "execution_count": 22,
   "id": "0ac6812d-2d22-4e39-b111-6b264210e23a",
   "metadata": {},
   "outputs": [
    {
     "data": {
      "text/plain": [
       "[3.14, 11, 'cat', True, 99]"
      ]
     },
     "execution_count": 22,
     "metadata": {},
     "output_type": "execute_result"
    }
   ],
   "source": [
    "##8. How does bacon.remove('cat') change the look of the list in bacon?\n",
    "bacon.remove('cat') # removes the mentioned values from the list of the first occurance\n",
    "bacon"
   ]
  },
  {
   "cell_type": "markdown",
   "id": "1068ab8e-b663-40c9-b086-6b4bedb6c2ad",
   "metadata": {},
   "source": [
    "9. What are the list concatenation and list replication operators?\n",
    "    "
   ]
  },
  {
   "cell_type": "code",
   "execution_count": 25,
   "id": "b14e7b31-b15b-4033-b195-9ddb3d478bb2",
   "metadata": {},
   "outputs": [
    {
     "name": "stdout",
     "output_type": "stream",
     "text": [
      "list_concatination [1, 2, 3, 'q', 3]\n",
      "list_replication [1, 2, 3, 1, 2, 3]\n"
     ]
    }
   ],
   "source": [
    "list_concatination = [1,2,3] + ['q',3]\n",
    "print('list_concatination' , list_concatination)\n",
    "list_replication = [1,2,3] * 2\n",
    "print('list_replication', list_replication)"
   ]
  },
  {
   "cell_type": "markdown",
   "id": "0d03a95a-2e38-45e2-b6ee-30df34a9961b",
   "metadata": {},
   "source": [
    "10. What is difference between the list methods append() and insert()?\n",
    "\n",
    "    Ans : append () --> will add the Object in the end  ---> list.append(Object)\n",
    "    \n",
    "           insert () --> will inset Object before the mentioned index ---> list.insert(index,Object)"
   ]
  },
  {
   "cell_type": "markdown",
   "id": "2434e465-98b0-4904-8586-d74741e98a95",
   "metadata": {},
   "source": [
    "11. What are the two methods for removing items from a list?"
   ]
  },
  {
   "cell_type": "code",
   "execution_count": 27,
   "id": "aa7f51bd-4dbe-49dd-bc9c-f432c19dab6d",
   "metadata": {},
   "outputs": [
    {
     "name": "stdout",
     "output_type": "stream",
     "text": [
      "[1, 2, 'b']\n",
      "b\n",
      "[1, 2]\n"
     ]
    }
   ],
   "source": [
    "list_remove = [1,2,'a','b']\n",
    "list_remove.remove('a') #remove(item) - removes first occurence of a item\n",
    "print(list_remove)\n",
    "print(list_remove.pop()) #pop() - Remove and returns item at index (default last).\n",
    "print(list_remove)"
   ]
  },
  {
   "cell_type": "markdown",
   "id": "14bd84da-84ea-47e6-bdfb-3e0a85e70506",
   "metadata": {},
   "source": [
    "12. Describe how list values and string values are identical.\n",
    "\n",
    "    Both lists and strings can be passed to len()\n",
    "    \n",
    "    Have indexes and slices\n",
    "    \n",
    "    Can be used in for loops\n",
    "    \n",
    "    Can be concatenated or replicated\n",
    "    \n",
    "    Can be used with the in and not in operators\n",
    "    \n",
    "    \n",
    "13. What's the difference between tuples and lists?\n",
    "\n",
    "    Lists : are mutable - they can have values added, removed, or changed. lists use the square brackets.\n",
    "    \n",
    "    Tuples : are immutable; they cannot be changed at all. Tuples are written using parentheses."
   ]
  },
  {
   "cell_type": "code",
   "execution_count": 28,
   "id": "f9d44099-2868-4262-aee4-174efabc40a4",
   "metadata": {},
   "outputs": [
    {
     "name": "stdout",
     "output_type": "stream",
     "text": [
      "42\n"
     ]
    }
   ],
   "source": [
    "## 14. How do you type a tuple value that only contains the integer 42?\n",
    "\n",
    "t = (42)\n",
    "print(t)"
   ]
  },
  {
   "cell_type": "code",
   "execution_count": 30,
   "id": "34af7309-e798-4b02-9774-dd17ba99a0e0",
   "metadata": {},
   "outputs": [
    {
     "name": "stdout",
     "output_type": "stream",
     "text": [
      "(1, 2, 'a', True)\n",
      "<class 'tuple'>\n"
     ]
    }
   ],
   "source": [
    "## 15. How do you get a list value&#39;s tuple form? How do you get a tuple value&#39;s list form?\n",
    "list_tuple = [1,2,'a',True]\n",
    "print(tuple(list_tuple))\n",
    "print(type((tuple(list_tuple))))"
   ]
  },
  {
   "cell_type": "markdown",
   "id": "09306d63-afb3-43f4-89a8-3632b85f075e",
   "metadata": {},
   "source": [
    "16. Variables that \"contain\" list values are not necessarily lists themselves. Instead, what do they\n",
    "contain?\n",
    "\n",
    "Ans: They contain references to list values\n",
    "\n",
    "17 . How do you distinguish between copy.copy() and copy.deepcopy()?\n",
    "\n",
    "  Ans: The copy.copy() function will do a shallow copy of a list.\n",
    "  \n",
    "       The copy.deepcopy() function will do a deep copy of a list. only copy.deepcopy() will duplicate any lists inside the list"
   ]
  },
  {
   "cell_type": "code",
   "execution_count": null,
   "id": "3aba2674-b2f0-4963-a70b-0c4f52005e85",
   "metadata": {},
   "outputs": [],
   "source": []
  }
 ],
 "metadata": {
  "kernelspec": {
   "display_name": "Python 3 (ipykernel)",
   "language": "python",
   "name": "python3"
  },
  "language_info": {
   "codemirror_mode": {
    "name": "ipython",
    "version": 3
   },
   "file_extension": ".py",
   "mimetype": "text/x-python",
   "name": "python",
   "nbconvert_exporter": "python",
   "pygments_lexer": "ipython3",
   "version": "3.10.6"
  }
 },
 "nbformat": 4,
 "nbformat_minor": 5
}
