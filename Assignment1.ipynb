{
 "cells": [
  {
   "cell_type": "markdown",
   "id": "a08ce7b5-5e9f-4ec0-b713-4a432f9d0ff1",
   "metadata": {},
   "source": [
    "# Assignment_1"
   ]
  },
  {
   "cell_type": "markdown",
   "id": "71d48a0d-a04f-48f3-8b50-069ef800b605",
   "metadata": {},
   "source": [
    "1. In the below elements which of them are values or an expression? eg:- values can be\n",
    "integer or string and expressions will be mathematical operators.\n",
    " 1. *  = expression\n",
    " 2.  hello = values\n",
    " 3. -87.8  = values\n",
    " 4. -  = expression\n",
    " 5. /  = expression\n",
    " 6. +  = expression\n",
    " 7. 6  = values"
   ]
  },
  {
   "cell_type": "markdown",
   "id": "cc0f61dd-c4d1-47ce-b303-826f044de4cc",
   "metadata": {},
   "source": [
    "2. What is the difference between string and variable?\n",
    " \n",
    " Strings : Strings are data\n",
    " \n",
    " Variables : Variables in python used to store the data"
   ]
  },
  {
   "cell_type": "markdown",
   "id": "62506efa-576c-4d1c-8de6-23dbcd5114a4",
   "metadata": {},
   "source": [
    "3. Describe three different data types.\n",
    "\n",
    "Numeric: These can be either integers or floats.\n",
    "\n",
    "Boolean: These are True/False values.\n",
    "\n",
    "String: These are text values composed of a sequence of characters."
   ]
  },
  {
   "cell_type": "markdown",
   "id": "c849face-f3a7-4efb-aaaf-507f93957d35",
   "metadata": {},
   "source": [
    "4. What is an expression made up of? What do all expressions do?\n",
    "\n",
    "   An expression is a combination of values, variables, operators, and calls to functions. Expressions need to be evaluated.      If you ask Python to print an expression, the interpreter evaluates the expression and displays the result."
   ]
  },
  {
   "cell_type": "markdown",
   "id": "a12e5014-9f9a-4eac-b96e-c16a35b0ab08",
   "metadata": {},
   "source": [
    "5. This assignment statements, like spam = 10. What is the difference between an\n",
    "expression and a statement?\n",
    "\n",
    " A statement in Python is not evaluated for some results. An expression in Python is evaluated for some results. The execution   of a statement changes the state of the variable. The expression evaluation does not result in any state change.\n",
    "    "
   ]
  },
  {
   "cell_type": "markdown",
   "id": "4996bffc-9d33-4e3c-aaf4-7513357fce84",
   "metadata": {},
   "source": [
    "6. After running the following code, what does the variable bacon contain?\n",
    "\n",
    "    bacon = 22\n",
    "    \n",
    "    bacon + 1\n",
    "    \n",
    "    Ans : bacon = 23"
   ]
  },
  {
   "cell_type": "markdown",
   "id": "05baa20b-140d-4862-82a8-dd32683d1a0d",
   "metadata": {},
   "source": [
    "7. What should the values of the following two terms be?\n",
    "\n",
    "    'spam' + 'spamspam'  = 'spamspamspam'\n",
    "    \n",
    "    'spam' * 3  = 'spamspamspam'"
   ]
  },
  {
   "cell_type": "markdown",
   "id": "2de91d55-986d-40f6-94e7-a164bf1576a4",
   "metadata": {},
   "source": [
    "8. Why is eggs a valid variable name while 100 is invalid?\n",
    "\n",
    "  'eggs' variable starts with string and the 100 is a numeric, as variable cannot start with number"
   ]
  },
  {
   "cell_type": "markdown",
   "id": "b6244b3f-1bba-4b33-994d-c735d4982a52",
   "metadata": {},
   "source": [
    "9. What three functions can be used to get the integer, floating-point number, or string\n",
    "version of a value?\n",
    "\n",
    "int(), float() and str()"
   ]
  },
  {
   "cell_type": "markdown",
   "id": "3ff6464e-72af-4391-8e96-2d5cfe7a6e23",
   "metadata": {},
   "source": [
    "10. Why does this expression cause an error? How can you fix it?\n",
    "\n",
    " 'I have eaten' + 99 + 'burritos'\n",
    " \n",
    " Ans : As the 99 is numeric datatype so to fix the error we need to use '99'"
   ]
  },
  {
   "cell_type": "code",
   "execution_count": null,
   "id": "4576fbd0-42af-4598-9abb-ea1ada46e68d",
   "metadata": {},
   "outputs": [],
   "source": []
  }
 ],
 "metadata": {
  "kernelspec": {
   "display_name": "Python 3 (ipykernel)",
   "language": "python",
   "name": "python3"
  },
  "language_info": {
   "codemirror_mode": {
    "name": "ipython",
    "version": 3
   },
   "file_extension": ".py",
   "mimetype": "text/x-python",
   "name": "python",
   "nbconvert_exporter": "python",
   "pygments_lexer": "ipython3",
   "version": "3.10.6"
  }
 },
 "nbformat": 4,
 "nbformat_minor": 5
}
