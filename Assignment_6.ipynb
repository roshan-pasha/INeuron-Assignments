{
 "cells": [
  {
   "cell_type": "markdown",
   "id": "103c0f89-be01-4568-8158-5c7bff0bdc6f",
   "metadata": {},
   "source": [
    "# Assignment 6 - Python Basic - 1"
   ]
  },
  {
   "cell_type": "markdown",
   "id": "19688349-663e-43ea-8e83-ee66b478f916",
   "metadata": {},
   "source": [
    "Q.1. What are keywords in python? Using the keyword library, print all the python keywords.\n",
    "\n",
    "Ans : Python keywords are special reserved words that have specific meanings and purposes and can't be used for anything but those specific purposes. These keywords are always available—you'll never have to import them into your code. Python keywords are different from Python's built-in functions and types.\n"
   ]
  },
  {
   "cell_type": "code",
   "execution_count": 2,
   "id": "0d722883-c43b-432c-9a13-29d690d4ce90",
   "metadata": {},
   "outputs": [
    {
     "name": "stdout",
     "output_type": "stream",
     "text": [
      "['False', 'None', 'True', 'and', 'as', 'assert', 'async', 'await', 'break', 'class', 'continue', 'def', 'del', 'elif', 'else', 'except', 'finally', 'for', 'from', 'global', 'if', 'import', 'in', 'is', 'lambda', 'nonlocal', 'not', 'or', 'pass', 'raise', 'return', 'try', 'while', 'with', 'yield']\n"
     ]
    }
   ],
   "source": [
    "import keyword\n",
    "print(keyword.kwlist)"
   ]
  },
  {
   "cell_type": "markdown",
   "id": "5ff68843-e021-4e3b-b33f-48688ffdbefb",
   "metadata": {},
   "source": [
    "Q.2. What are the rules to create variables in python?\n",
    "\n",
    "Ans: Rules for Python variables:\n",
    "\n",
    "    A variable name must start with a letter or the underscore character.\n",
    "\n",
    "    A variable name cannot start with a number.\n",
    "\n",
    "    A variable name can only contain alpha-numeric characters and underscores (A-z, 0-9, and _ )\n",
    "\n",
    "    Variable names are case-sensitive (age, Age and AGE are three different variables)"
   ]
  },
  {
   "cell_type": "markdown",
   "id": "806ce179-1de3-45f2-9ec7-970819a7e313",
   "metadata": {},
   "source": [
    "Q.3. What are the standards and conventions followed for the nomenclature of variables in\n",
    "python to improve code readability and maintainability?"
   ]
  },
  {
   "cell_type": "markdown",
   "id": "60b68eba-5d6a-44b2-97b1-01facf864609",
   "metadata": {},
   "source": [
    "In Python, there are several standards and conventions for naming variables that aim to improve code readability and maintainability. The following are some widely accepted practices:\n",
    "\n",
    "1. Use descriptive names: Variable names should be meaningful and describe the purpose or content of the variable. This helps to understand the code's intent and makes it easier for others (including your future self) to read and maintain the code.\n",
    "\n",
    "2. Follow lowercase with underscores (snake_case): Variable names should be written in lowercase letters, and words should be separated by underscores. For example: `count`, `total_sum`, `customer_name`.\n",
    "\n",
    "3. Avoid using reserved words: Do not use Python's reserved words (keywords) as variable names, such as `if`, `for`, `while`, `def`, etc.\n",
    "\n",
    "4. Be consistent and use a consistent naming style throughout your codebase. If you're working on an existing project, follow the conventions already established in that project.\n",
    "\n",
    "5. Use meaningful abbreviations: If a variable name becomes too long, it's acceptable to use abbreviations as long as they are widely understood and do not sacrifice clarity. For example, `num_inst` for \"number of instances\" or `avg_temp` for \"average temperature.\"\n",
    "\n",
    "6. Avoid using single-letter variable names, except for simple loop counters. Instead, use descriptive names that convey the purpose of the variable.\n",
    "\n",
    "7. Use nouns or noun phrases for object-oriented programming: When working with objects or classes, variable names should be nouns or noun phrases that describe the object's purpose or content. For example: `person`, `car`, `customer_list`.\n",
    "\n",
    "8. Use verbs or verb phrases for functions and methods: When naming functions or methods, use verbs or verb phrases to describe the action or behavior. For example: `calculate_total`, `get_customer_name`.\n",
    "\n",
    "9. Constants should be written in uppercase letters with underscores: If you have variables that are meant to be constants (values that don't change), their names should be written in uppercase letters with underscores separating words. For example: `MAX_VALUE`, `DEFAULT_TIMEOUT`.\n",
    "\n",
    "10. Be mindful of the context: Consider the scope and context in which the variable is used. Variables that have a broader scope and are used across multiple functions or modules may require more descriptive names than local variables used within a small code block.\n",
    "\n",
    "By following these naming conventions, you can significantly enhance the readability, understandability, and maintainability of your Python code. Remember that the goal is to write code that is clear and easy to comprehend for both yourself and other developers who may work on the code in the future."
   ]
  },
  {
   "cell_type": "markdown",
   "id": "52695357-ec22-47fb-a548-9b1a10d8deae",
   "metadata": {},
   "source": [
    "Q.4. What will happen if a keyword is used as a variable name?\n",
    "\n",
    "Ans : If a keyword is used as a variable name in Python, it will result in a syntax error. Keywords in Python are reserved for specific purposes and have predefined meanings in the language. They cannot be used as variable names because they are part of the language's syntax and serve as building blocks for defining control structures, data types, and other language features.\n",
    "\n",
    "When you attempt to use a keyword as a variable name, Python's interpreter will raise a syntax error to indicate that the code is invalid. The error message will typically state that the keyword is being used as an identifier or that it is an invalid syntax. For example, consider the following code snippet:\n",
    "\n",
    "```python\n",
    "if = 10\n",
    "```\n",
    "\n",
    "In this case, the keyword \"if\" is being used as a variable name, which is not allowed. Running this code will result in a syntax error similar to the following:\n",
    "\n",
    "```\n",
    "SyntaxError: invalid syntax\n",
    "```\n",
    "\n",
    "To resolve this issue, you need to choose a different name for the variable that does not conflict with any of Python's keywords. By adhering to the naming conventions and avoiding the use of reserved words, you can ensure that your code is valid and executes correctly."
   ]
  },
  {
   "cell_type": "markdown",
   "id": "2cb698b1-9a2a-4e34-82c8-3661dc701572",
   "metadata": {},
   "source": [
    "Q.5. For what purpose def keyword is used?\n",
    "\n",
    "The `def` keyword in Python is used to define a function. Functions are blocks of reusable code that perform a specific task. They allow you to organize your code into logical units and make it modular, improving readability, reusability, and maintainability.\n",
    "\n",
    "When you use the `def` keyword followed by a function name, you are creating a function definition. Here's the general syntax of a function definition:\n",
    "\n",
    "```python\n",
    "def function_name(parameters):\n",
    "    \"\"\"Optional docstring\"\"\"\n",
    "    # Function body\n",
    "    # Statements to be executed\n",
    "    # May include a return statement\n",
    "```\n",
    "\n",
    "Let's break down the parts of a function definition:\n",
    "\n",
    "- `def`: It's the keyword that signifies the start of a function definition.\n",
    "\n",
    "- `function_name`: This is the name you give to your function. It should follow the same naming conventions as variables.\n",
    "\n",
    "- `parameters`: These are optional inputs that the function can accept. They are placed inside parentheses and separated by commas. You can specify zero or more parameters as needed.\n",
    "\n",
    "- `\"\"\"Optional docstring\"\"\"`: This is an optional docstring (documentation string) that provides a brief description of the function's purpose, inputs, and outputs. It's good practice to include a docstring to document your functions.\n",
    "\n",
    "- Function body: It consists of one or more statements that are indented under the function definition. These statements define what the function does when it is called. They can include any valid Python code, such as assignments, calculations, conditionals, loops, and function calls.\n",
    "\n",
    "- `return` statement (optional): Functions can optionally include a `return` statement to specify the value(s) the function should return when it is called. If no `return` statement is used, the function returns `None` by default.\n",
    "\n",
    "Here's a simple example of a function definition that calculates the square of a number:\n",
    "\n",
    "```python\n",
    "def square(num):\n",
    "    \"\"\"Calculate the square of a number.\"\"\"\n",
    "    return num ** 2\n",
    "```\n",
    "\n",
    "Once you define a function, you can call it by using its name followed by parentheses, passing any required arguments. For example:\n",
    "\n",
    "```python\n",
    "result = square(5)\n",
    "print(result)  # Output: 25\n",
    "```\n",
    "\n",
    "In this case, the `square` function is called with the argument `5`, and the returned result is assigned to the `result` variable, which is then printed."
   ]
  },
  {
   "cell_type": "code",
   "execution_count": null,
   "id": "466e142e-55b2-49cc-943a-f6c443b0a4c8",
   "metadata": {},
   "outputs": [],
   "source": []
  },
  {
   "cell_type": "markdown",
   "id": "d90dc51b-4580-4e04-b97f-d8c6e9abbe25",
   "metadata": {},
   "source": [
    "Q.6. What is the operation of this special character ‘\\’?\n",
    "\n",
    "The special character `\\` in Python is known as the escape character. It is used to include special characters or sequences within strings and other literals.\n",
    "\n",
    "The escape character `\\` is followed by another character to represent a specific escape sequence. Here are some common escape sequences used in Python:\n",
    "\n",
    "- `\\n`: Represents a newline character. When used within a string, it creates a line break.\n",
    "- `\\t`: Represents a tab character. It adds horizontal spacing equivalent to a tab.\n",
    "- `\\\\`: Represents a backslash character itself. It is used to include a literal backslash in a string.\n",
    "- `\\\"`: Represents a double quotation mark. It allows you to include a double quote within a string literal without prematurely ending the string.\n",
    "- `\\'`: Represents a single quotation mark (apostrophe). It allows you to include a single quote within a string literal without prematurely ending the string.\n",
    "\n",
    "Here's an example to demonstrate the use of the escape character:\n",
    "\n",
    "```python\n",
    "print(\"Hello\\nWorld\")    # Output: Hello\n",
    "                         #         World\n",
    "\n",
    "print(\"This is a\\ttab\")  # Output: This is a    tab\n",
    "\n",
    "print(\"A literal backslash: \\\\\")  # Output: A literal backslash: \\\n",
    "\n",
    "print(\"He said, \\\"Hello!\\\"\")  # Output: He said, \"Hello!\"\n",
    "\n",
    "print('She said, \\'Hi!\\'')    # Output: She said, 'Hi!'\n",
    "```\n",
    "\n",
    "In the first example, `\\n` is used to create a newline between \"Hello\" and \"World,\" resulting in the output being displayed on separate lines. In the second example, `\\t` is used to insert a tab space after \"This is a.\" The third example shows how to include a literal backslash in a string using `\\\\`. The last two examples demonstrate how to include double quotes and single quotes within string literals by using `\\\"` and `\\'`, respectively.\n",
    "\n",
    "The escape character `\\` allows you to include special characters or sequences that would otherwise have a different meaning in Python strings, enabling you to represent them as literal characters."
   ]
  },
  {
   "cell_type": "code",
   "execution_count": null,
   "id": "7b084d6e-6917-4d4e-9a0b-ecfdb5d50464",
   "metadata": {},
   "outputs": [],
   "source": []
  },
  {
   "cell_type": "markdown",
   "id": "d3a5a350-9ff8-45fe-b86f-ec0b314a88fd",
   "metadata": {},
   "source": [
    "Q.7. Give an example of the following conditions:\n",
    "\n",
    "(i) Homogeneous list\n",
    "\n",
    "(ii) Heterogeneous set\n",
    "\n",
    "(iii) Homogeneous tuple\n",
    "\n",
    "Ans : \n",
    "\n",
    "Sure! Here are examples of the conditions you mentioned:\n",
    "\n",
    "(i) Homogeneous list: A homogeneous list contains elements of the same type. In Python, lists can hold elements of different types, but a homogeneous list contains elements of the same type. Here's an example of a homogeneous list containing integers:\n",
    "\n",
    "```python\n",
    "homogeneous_list = [1, 2, 3, 4, 5]\n",
    "```\n",
    "\n",
    "In this example, all the elements in the `homogeneous_list` are integers.\n",
    "\n",
    "(ii) Heterogeneous set: A heterogeneous set contains elements of different types. In Python, sets are unordered collections of unique elements. Here's an example of a heterogeneous set:\n",
    "\n",
    "```python\n",
    "heterogeneous_set = {1, 'two', 3.0, (4, 5)}\n",
    "```\n",
    "\n",
    "In this example, the `heterogeneous_set` contains elements of different types: an integer (`1`), a string (`'two'`), a floating-point number (`3.0`), and a tuple (`(4, 5)`).\n",
    "\n",
    "(iii) Homogeneous tuple: A homogeneous tuple contains elements of the same type. Tuples are ordered collections similar to lists, but they are immutable, meaning their elements cannot be modified. Here's an example of a homogeneous tuple containing strings:\n",
    "\n",
    "```python\n",
    "homogeneous_tuple = ('apple', 'banana', 'cherry', 'date')\n",
    "```\n",
    "\n",
    "In this example, all the elements in the `homogeneous_tuple` are strings.\n",
    "\n",
    "Note: In Python, the terms \"homogeneous\" and \"heterogeneous\" are typically used in the context of collections like lists, sets, and tuples. The terms describe whether the elements within the collection are of the same type (homogeneous) or of different types (heterogeneous)."
   ]
  },
  {
   "cell_type": "code",
   "execution_count": null,
   "id": "60f9a29b-cdf8-4a93-b47d-b1db0ad0412b",
   "metadata": {},
   "outputs": [],
   "source": []
  },
  {
   "cell_type": "markdown",
   "id": "14d1a7ca-8aa2-4d41-bb72-26431e5f37b1",
   "metadata": {},
   "source": [
    "Q.8. Explain the mutable and immutable data types with proper explanation & examples.\n",
    "\n",
    "In Python, data types can be classified as either mutable or immutable based on whether their values can be changed after they are created. Here's an explanation of mutable and immutable data types:\n",
    "\n",
    "Mutable Data Types:\n",
    "- Mutable data types can be modified or changed after they are created.\n",
    "- When you modify a mutable object, the object itself is modified in memory, and its identity remains the same.\n",
    "- Examples of mutable data types in Python include lists, dictionaries, and sets.\n",
    "\n",
    "Let's see an example with a list, which is a mutable data type:\n",
    "\n",
    "```python\n",
    "my_list = [1, 2, 3]\n",
    "print(my_list)  # Output: [1, 2, 3]\n",
    "\n",
    "my_list.append(4)\n",
    "print(my_list)  # Output: [1, 2, 3, 4]\n",
    "\n",
    "my_list[1] = 5\n",
    "print(my_list)  # Output: [1, 5, 3, 4]\n",
    "```\n",
    "\n",
    "In the example above, the `my_list` variable is initially assigned a list `[1, 2, 3]`. Using the `append()` method, we modify the list by adding the element `4`. Then, we modify the value at index `1` by assigning it the value `5`. In both cases, the original list is modified, and its identity remains the same.\n",
    "\n",
    "Immutable Data Types:\n",
    "- Immutable data types cannot be modified after they are created.\n",
    "- When you attempt to modify an immutable object, a new object is created in memory with the modified value, and the original object remains unchanged.\n",
    "- Examples of immutable data types in Python include integers, floats, strings, and tuples.\n",
    "\n",
    "Let's see an example with a string, which is an immutable data type:\n",
    "\n",
    "```python\n",
    "my_string = \"Hello\"\n",
    "print(my_string)  # Output: Hello\n",
    "\n",
    "my_string = my_string + \" World\"\n",
    "print(my_string)  # Output: Hello World\n",
    "```\n",
    "\n",
    "In this example, the `my_string` variable is initially assigned the string `\"Hello\"`. When we concatenate the string with `\" World\"` using the `+` operator, a new string is created with the modified value. The original string `\"Hello\"` remains unchanged, and the `my_string` variable is reassigned to reference the new string `\"Hello World\"`.\n",
    "\n",
    "Immutable data types in Python provide the advantage of immutability, making them suitable for scenarios where you want to ensure that the value of an object remains constant and prevent unintended modifications. Mutable data types, on the other hand, allow for flexibility and dynamic modifications of their contents."
   ]
  },
  {
   "cell_type": "code",
   "execution_count": null,
   "id": "d94dc0bb-2f69-4149-a193-fa853c887e66",
   "metadata": {},
   "outputs": [],
   "source": []
  },
  {
   "cell_type": "markdown",
   "id": "14790d3d-455c-4c8f-b1a9-2434d4376b5b",
   "metadata": {},
   "source": [
    "Q.9. Write a code to create the given structure using only for loop.\n"
   ]
  },
  {
   "cell_type": "code",
   "execution_count": 1,
   "id": "f4b867d0-2c2a-480c-a436-2344f42248fb",
   "metadata": {},
   "outputs": [
    {
     "name": "stdout",
     "output_type": "stream",
     "text": [
      "    *\n",
      "   ***\n",
      "  *****\n",
      " *******\n",
      "*********\n"
     ]
    }
   ],
   "source": [
    "rows = 5  # Number of rows in the pattern\n",
    "\n",
    "for i in range(rows):\n",
    "    # Print spaces before the stars\n",
    "    for j in range(rows - i - 1):\n",
    "        print(\" \", end=\"\")\n",
    "    \n",
    "    # Print stars\n",
    "    for k in range(2*i + 1):\n",
    "        print(\"*\", end=\"\")\n",
    "    \n",
    "    # Move to the next line\n",
    "    print()\n"
   ]
  },
  {
   "cell_type": "code",
   "execution_count": 9,
   "id": "ab127dc1-42b7-45b5-afd7-71250526ed61",
   "metadata": {},
   "outputs": [
    {
     "name": "stdout",
     "output_type": "stream",
     "text": [
      "|||||||||\n",
      " |||||||\n",
      "  |||||\n",
      "   |||\n",
      "    |\n"
     ]
    }
   ],
   "source": [
    "row = 5\n",
    "for i in range(row):\n",
    "    for j in range(i):\n",
    "        print(\" \",end=\"\")\n",
    "    for k in range(2*(row-i) - 1):\n",
    "        print(\"|\",end=\"\")\n",
    "    \n",
    "    print()\n",
    "        "
   ]
  },
  {
   "cell_type": "markdown",
   "id": "5c0f19eb-caef-4ea5-948d-ca2f56996144",
   "metadata": {},
   "source": [
    "Q.10. Write a code to create the given structure using while loop.\n",
    "  |||||||||\n",
    "   |||||||\n",
    "    |||||\n",
    "     |||\n",
    "      |"
   ]
  },
  {
   "cell_type": "code",
   "execution_count": 10,
   "id": "bbd2d4ff-8c91-43e0-a0bd-0e575d2c0e20",
   "metadata": {},
   "outputs": [
    {
     "name": "stdout",
     "output_type": "stream",
     "text": [
      "|||||||||\n",
      " |||||||\n",
      "  |||||\n",
      "   |||\n",
      "    |\n"
     ]
    }
   ],
   "source": [
    "rows = 5  # Number of rows in the pattern\n",
    "\n",
    "i = 0\n",
    "while i < rows:\n",
    "    # Print spaces\n",
    "    j = 0\n",
    "    while j < i:\n",
    "        print(\" \", end=\"\")\n",
    "        j += 1\n",
    "    \n",
    "    # Print bars\n",
    "    k = 0\n",
    "    while k < 2 * (rows - i) - 1:\n",
    "        print(\"|\", end=\"\")\n",
    "        k += 1\n",
    "    \n",
    "    # Move to the next line\n",
    "    print()\n",
    "    i += 1\n"
   ]
  },
  {
   "cell_type": "code",
   "execution_count": null,
   "id": "347491ca-a7e4-46f1-8325-3fa7ca4d52e5",
   "metadata": {},
   "outputs": [],
   "source": []
  }
 ],
 "metadata": {
  "kernelspec": {
   "display_name": "Python 3 (ipykernel)",
   "language": "python",
   "name": "python3"
  },
  "language_info": {
   "codemirror_mode": {
    "name": "ipython",
    "version": 3
   },
   "file_extension": ".py",
   "mimetype": "text/x-python",
   "name": "python",
   "nbconvert_exporter": "python",
   "pygments_lexer": "ipython3",
   "version": "3.10.6"
  }
 },
 "nbformat": 4,
 "nbformat_minor": 5
}
